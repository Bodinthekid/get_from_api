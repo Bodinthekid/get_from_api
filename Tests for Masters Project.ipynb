{
 "cells": [
  {
   "cell_type": "markdown",
   "id": "b9fd5a8e",
   "metadata": {},
   "source": [
    "# Insert CSV file into SQL# "
   ]
  },
  {
   "cell_type": "code",
   "execution_count": null,
   "id": "7173c69f",
   "metadata": {},
   "outputs": [],
   "source": [
    "pip install pyodbc"
   ]
  },
  {
   "cell_type": "code",
   "execution_count": 65,
   "id": "646a5588",
   "metadata": {},
   "outputs": [],
   "source": [
    "import pyodbc\n",
    "\n",
    "%matplotlib inline\n",
    "\n",
    "import pandas as pd\n",
    "import numpy as np\n",
    "import matplotlib.pyplot as plt"
   ]
  },
  {
   "cell_type": "code",
   "execution_count": 63,
   "id": "0c103a80",
   "metadata": {},
   "outputs": [
    {
     "name": "stderr",
     "output_type": "stream",
     "text": [
      "C:\\Users\\Andre\\anaconda3\\Lib\\site-packages\\_distutils_hack\\__init__.py:33: UserWarning: Setuptools is replacing distutils.\n",
      "  warnings.warn(\"Setuptools is replacing distutils.\")\n"
     ]
    },
    {
     "name": "stdout",
     "output_type": "stream",
     "text": [
      "\n",
      "INSTALLED VERSIONS\n",
      "------------------\n",
      "commit           : 0f437949513225922d851e9581723d82120684a6\n",
      "python           : 3.11.5.final.0\n",
      "python-bits      : 64\n",
      "OS               : Windows\n",
      "OS-release       : 10\n",
      "Version          : 10.0.19045\n",
      "machine          : AMD64\n",
      "processor        : Intel64 Family 6 Model 142 Stepping 9, GenuineIntel\n",
      "byteorder        : little\n",
      "LC_ALL           : None\n",
      "LANG             : None\n",
      "LOCALE           : pt_BR.cp1252\n",
      "\n",
      "pandas           : 2.0.3\n",
      "numpy            : 1.24.3\n",
      "pytz             : 2023.3.post1\n",
      "dateutil         : 2.8.2\n",
      "setuptools       : 68.0.0\n",
      "pip              : 23.2.1\n",
      "Cython           : None\n",
      "pytest           : 7.4.0\n",
      "hypothesis       : None\n",
      "sphinx           : 5.0.2\n",
      "blosc            : None\n",
      "feather          : None\n",
      "xlsxwriter       : None\n",
      "lxml.etree       : 4.9.3\n",
      "html5lib         : None\n",
      "pymysql          : None\n",
      "psycopg2         : None\n",
      "jinja2           : 3.1.2\n",
      "IPython          : 8.15.0\n",
      "pandas_datareader: None\n",
      "bs4              : 4.12.2\n",
      "bottleneck       : 1.3.5\n",
      "brotli           : \n",
      "fastparquet      : None\n",
      "fsspec           : 2023.4.0\n",
      "gcsfs            : None\n",
      "matplotlib       : 3.7.2\n",
      "numba            : 0.57.1\n",
      "numexpr          : 2.8.4\n",
      "odfpy            : None\n",
      "openpyxl         : 3.0.10\n",
      "pandas_gbq       : None\n",
      "pyarrow          : 11.0.0\n",
      "pyreadstat       : None\n",
      "pyxlsb           : None\n",
      "s3fs             : 2023.4.0\n",
      "scipy            : 1.11.1\n",
      "snappy           : \n",
      "sqlalchemy       : 1.4.39\n",
      "tables           : 3.8.0\n",
      "tabulate         : 0.8.10\n",
      "xarray           : 2023.6.0\n",
      "xlrd             : None\n",
      "zstandard        : 0.19.0\n",
      "tzdata           : 2023.3\n",
      "qtpy             : 2.2.0\n",
      "pyqt5            : None\n"
     ]
    }
   ],
   "source": [
    "pd.show_versions()"
   ]
  },
  {
   "cell_type": "code",
   "execution_count": 129,
   "id": "247c2af6",
   "metadata": {},
   "outputs": [
    {
     "data": {
      "text/plain": [
       "['SQL Server',\n",
       " 'Microsoft Access Driver (*.mdb, *.accdb)',\n",
       " 'Microsoft Excel Driver (*.xls, *.xlsx, *.xlsm, *.xlsb)',\n",
       " 'Microsoft Access Text Driver (*.txt, *.csv)']"
      ]
     },
     "execution_count": 129,
     "metadata": {},
     "output_type": "execute_result"
    }
   ],
   "source": [
    "pyodbc.drivers()"
   ]
  },
  {
   "cell_type": "code",
   "execution_count": 10,
   "id": "ffb16539",
   "metadata": {
    "ExecuteTime": {
     "end_time": "2024-02-27T18:18:19.189465900Z",
     "start_time": "2024-02-27T18:18:19.169956600Z"
    }
   },
   "outputs": [
    {
     "data": {
      "text/plain": "'mysql.connector.__version__: 8.3.0'"
     },
     "execution_count": 10,
     "metadata": {},
     "output_type": "execute_result"
    }
   ],
   "source": [
    "import traceback\n",
    "\n",
    "try:\n",
    "    import mysql.connector\n",
    "except:\n",
    "    !pip install mysql-connector-python\n",
    "    import mysql.connector\n",
    "\n",
    "\"mysql.connector.__version__: \" + mysql.connector.__version__"
   ]
  },
  {
   "cell_type": "code",
   "execution_count": 11,
   "id": "b112892f",
   "metadata": {
    "ExecuteTime": {
     "end_time": "2024-02-27T18:18:20.111374200Z",
     "start_time": "2024-02-27T18:18:20.099718Z"
    }
   },
   "outputs": [
    {
     "name": "stdout",
     "output_type": "stream",
     "text": [
      "ok!\n"
     ]
    }
   ],
   "source": [
    "try:\n",
    "    cnx = mysql.connector.connect(\n",
    "        user='meec1',\n",
    "        password='00meec',\n",
    "        host='127.0.0.1', # in your case replace by 'localhost'\n",
    "        database='teste_ipma_pt'\n",
    "    )\n",
    "except mysql.connector.Error as e:\n",
    "    print(f\"problems opening the connection to mysql: {e}\")\n",
    "else:\n",
    "    print(\"ok!\")\n",
    "    cnx.close()"
   ]
  },
  {
   "cell_type": "code",
   "execution_count": 12,
   "id": "f0b54d6b",
   "metadata": {
    "ExecuteTime": {
     "end_time": "2024-02-27T18:18:21.147291300Z",
     "start_time": "2024-02-27T18:18:21.109550700Z"
    }
   },
   "outputs": [
    {
     "name": "stdout",
     "output_type": "stream",
     "text": [
      "ok!\n"
     ]
    }
   ],
   "source": [
    "from config1 import config as conf\n",
    "\n",
    "try:\n",
    "    cnx = mysql.connector.connect(**conf)\n",
    "except mysql.connector.Error as e:\n",
    "    print(f\"problems opening the connection to mysql: {e.msg}\")\n",
    "else :\n",
    "    print(\"ok!\")\n",
    "    cnx.close()"
   ]
  },
  {
   "cell_type": "code",
   "execution_count": 13,
   "id": "896163c3",
   "metadata": {
    "ExecuteTime": {
     "end_time": "2024-02-27T18:18:22.258145600Z",
     "start_time": "2024-02-27T18:18:22.224804200Z"
    }
   },
   "outputs": [
    {
     "ename": "NameError",
     "evalue": "name 'pd' is not defined",
     "output_type": "error",
     "traceback": [
      "\u001B[1;31m---------------------------------------------------------------------------\u001B[0m",
      "\u001B[1;31mNameError\u001B[0m                                 Traceback (most recent call last)",
      "Cell \u001B[1;32mIn[13], line 1\u001B[0m\n\u001B[1;32m----> 1\u001B[0m df \u001B[38;5;241m=\u001B[39m pd\u001B[38;5;241m.\u001B[39mread_csv(\u001B[38;5;124m\"\u001B[39m\u001B[38;5;124mEvapotranspiracao - et0-0810-olhao.csv\u001B[39m\u001B[38;5;124m\"\u001B[39m)\n",
      "\u001B[1;31mNameError\u001B[0m: name 'pd' is not defined"
     ]
    }
   ],
   "source": [
    "df = pd.read_csv(\"Evapotranspiracao - et0-0810-olhao.csv\")"
   ]
  },
  {
   "cell_type": "code",
   "execution_count": 14,
   "id": "11cd0ce8",
   "metadata": {
    "scrolled": true,
    "ExecuteTime": {
     "end_time": "2024-02-27T18:18:23.202934600Z",
     "start_time": "2024-02-27T18:18:23.140956200Z"
    }
   },
   "outputs": [
    {
     "ename": "NameError",
     "evalue": "name 'df' is not defined",
     "output_type": "error",
     "traceback": [
      "\u001B[1;31m---------------------------------------------------------------------------\u001B[0m",
      "\u001B[1;31mNameError\u001B[0m                                 Traceback (most recent call last)",
      "Cell \u001B[1;32mIn[14], line 1\u001B[0m\n\u001B[1;32m----> 1\u001B[0m df\u001B[38;5;241m.\u001B[39mhead()\n",
      "\u001B[1;31mNameError\u001B[0m: name 'df' is not defined"
     ]
    }
   ],
   "source": [
    "df.head()"
   ]
  },
  {
   "cell_type": "code",
   "execution_count": 18,
   "id": "b9ad326e",
   "metadata": {
    "ExecuteTime": {
     "end_time": "2024-02-27T18:22:16.050465200Z",
     "start_time": "2024-02-27T18:22:16.010752800Z"
    }
   },
   "outputs": [],
   "source": [
    " "
   ]
  },
  {
   "cell_type": "code",
   "outputs": [],
   "source": [],
   "metadata": {
    "collapsed": false
   },
   "id": "3c7af59665ea28bc"
  }
 ],
 "metadata": {
  "kernelspec": {
   "display_name": "Python 3 (ipykernel)",
   "language": "python",
   "name": "python3"
  },
  "language_info": {
   "codemirror_mode": {
    "name": "ipython",
    "version": 3
   },
   "file_extension": ".py",
   "mimetype": "text/x-python",
   "name": "python",
   "nbconvert_exporter": "python",
   "pygments_lexer": "ipython3",
   "version": "3.11.5"
  }
 },
 "nbformat": 4,
 "nbformat_minor": 5
}
