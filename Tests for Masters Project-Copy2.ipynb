{
 "cells": [
  {
   "cell_type": "markdown",
   "id": "b9fd5a8e",
   "metadata": {},
   "source": [
    "# Insert CSV file into SQL# "
   ]
  },
  {
   "cell_type": "code",
   "execution_count": 11,
   "id": "7173c69f",
   "metadata": {},
   "outputs": [
    {
     "name": "stdout",
     "output_type": "stream",
     "text": [
      "Requirement already satisfied: pyodbc in c:\\users\\andre\\anaconda3\\lib\\site-packages (4.0.34)Note: you may need to restart the kernel to use updated packages.\n",
      "\n"
     ]
    }
   ],
   "source": [
    "pip install pyodbc"
   ]
  },
  {
   "cell_type": "code",
   "execution_count": 4,
   "id": "646a5588",
   "metadata": {},
   "outputs": [],
   "source": [
    "import pyodbc\n",
    "\n",
    "%matplotlib inline\n",
    "\n",
    "import pandas as pd\n",
    "import numpy as np\n",
    "import matplotlib.pyplot as plt"
   ]
  },
  {
   "cell_type": "code",
   "execution_count": 5,
   "id": "0c103a80",
   "metadata": {},
   "outputs": [
    {
     "name": "stderr",
     "output_type": "stream",
     "text": [
      "C:\\Users\\Andre\\anaconda3\\Lib\\site-packages\\_distutils_hack\\__init__.py:33: UserWarning: Setuptools is replacing distutils.\n",
      "  warnings.warn(\"Setuptools is replacing distutils.\")\n"
     ]
    },
    {
     "name": "stdout",
     "output_type": "stream",
     "text": [
      "\n",
      "INSTALLED VERSIONS\n",
      "------------------\n",
      "commit           : 0f437949513225922d851e9581723d82120684a6\n",
      "python           : 3.11.5.final.0\n",
      "python-bits      : 64\n",
      "OS               : Windows\n",
      "OS-release       : 10\n",
      "Version          : 10.0.19045\n",
      "machine          : AMD64\n",
      "processor        : Intel64 Family 6 Model 142 Stepping 9, GenuineIntel\n",
      "byteorder        : little\n",
      "LC_ALL           : None\n",
      "LANG             : None\n",
      "LOCALE           : pt_BR.cp1252\n",
      "\n",
      "pandas           : 2.0.3\n",
      "numpy            : 1.24.3\n",
      "pytz             : 2023.3.post1\n",
      "dateutil         : 2.8.2\n",
      "setuptools       : 68.0.0\n",
      "pip              : 23.2.1\n",
      "Cython           : None\n",
      "pytest           : 7.4.0\n",
      "hypothesis       : None\n",
      "sphinx           : 5.0.2\n",
      "blosc            : None\n",
      "feather          : None\n",
      "xlsxwriter       : None\n",
      "lxml.etree       : 4.9.3\n",
      "html5lib         : None\n",
      "pymysql          : None\n",
      "psycopg2         : None\n",
      "jinja2           : 3.1.2\n",
      "IPython          : 8.15.0\n",
      "pandas_datareader: None\n",
      "bs4              : 4.12.2\n",
      "bottleneck       : 1.3.5\n",
      "brotli           : \n",
      "fastparquet      : None\n",
      "fsspec           : 2023.4.0\n",
      "gcsfs            : None\n",
      "matplotlib       : 3.7.2\n",
      "numba            : 0.57.1\n",
      "numexpr          : 2.8.4\n",
      "odfpy            : None\n",
      "openpyxl         : 3.0.10\n",
      "pandas_gbq       : None\n",
      "pyarrow          : 11.0.0\n",
      "pyreadstat       : None\n",
      "pyxlsb           : None\n",
      "s3fs             : 2023.4.0\n",
      "scipy            : 1.11.1\n",
      "snappy           : \n",
      "sqlalchemy       : 1.4.39\n",
      "tables           : 3.8.0\n",
      "tabulate         : 0.8.10\n",
      "xarray           : 2023.6.0\n",
      "xlrd             : None\n",
      "zstandard        : 0.19.0\n",
      "tzdata           : 2023.3\n",
      "qtpy             : 2.2.0\n",
      "pyqt5            : None\n"
     ]
    }
   ],
   "source": [
    "pd.show_versions()"
   ]
  },
  {
   "cell_type": "code",
   "execution_count": 13,
   "id": "247c2af6",
   "metadata": {},
   "outputs": [
    {
     "data": {
      "text/plain": [
       "['SQL Server',\n",
       " 'Microsoft Access Driver (*.mdb, *.accdb)',\n",
       " 'Microsoft Excel Driver (*.xls, *.xlsx, *.xlsm, *.xlsb)',\n",
       " 'Microsoft Access Text Driver (*.txt, *.csv)']"
      ]
     },
     "execution_count": 13,
     "metadata": {},
     "output_type": "execute_result"
    }
   ],
   "source": [
    "pyodbc.drivers()"
   ]
  },
  {
   "cell_type": "code",
   "execution_count": 14,
   "id": "ffb16539",
   "metadata": {},
   "outputs": [
    {
     "data": {
      "text/plain": [
       "'mysql.connector.__version__: 8.3.0'"
      ]
     },
     "execution_count": 14,
     "metadata": {},
     "output_type": "execute_result"
    }
   ],
   "source": [
    "import traceback\n",
    "\n",
    "try:\n",
    "    import mysql.connector\n",
    "except:\n",
    "    !pip install mysql-connector-python\n",
    "    import mysql.connector\n",
    "\n",
    "\"mysql.connector.__version__: \" + mysql.connector.__version__"
   ]
  },
  {
   "cell_type": "code",
   "execution_count": 15,
   "id": "b112892f",
   "metadata": {},
   "outputs": [
    {
     "name": "stdout",
     "output_type": "stream",
     "text": [
      "ok!\n"
     ]
    }
   ],
   "source": [
    "try:\n",
    "    cnx = mysql.connector.connect(\n",
    "        user='meec1',\n",
    "        password='00meec',\n",
    "        host='127.0.0.1', # in your case replace by 'localhost'\n",
    "        database='teste_ipma_pt'\n",
    "    )\n",
    "except mysql.connector.Error as e:\n",
    "    print(f\"problems opening the connection to mysql: {e}\")\n",
    "else:\n",
    "    print(\"ok!\")\n",
    "    cnx.close()"
   ]
  },
  {
   "cell_type": "code",
   "execution_count": 16,
   "id": "f0b54d6b",
   "metadata": {},
   "outputs": [
    {
     "name": "stdout",
     "output_type": "stream",
     "text": [
      "ok!\n"
     ]
    }
   ],
   "source": [
    "from config1 import config as conf\n",
    "\n",
    "try:\n",
    "    cnx = mysql.connector.connect(**conf)\n",
    "except mysql.connector.Error as e:\n",
    "    print(f\"problems opening the connection to mysql: {e.msg}\")\n",
    "else :\n",
    "    print(\"ok!\")\n",
    "    cnx.close()"
   ]
  },
  {
   "cell_type": "code",
   "execution_count": 6,
   "id": "896163c3",
   "metadata": {},
   "outputs": [],
   "source": [
    "df = pd.read_csv(\"Evapotranspiracao - et0-0810-olhao.csv\")"
   ]
  },
  {
   "cell_type": "code",
   "execution_count": 7,
   "id": "11cd0ce8",
   "metadata": {
    "scrolled": true
   },
   "outputs": [
    {
     "data": {
      "text/html": [
       "<div>\n",
       "<style scoped>\n",
       "    .dataframe tbody tr th:only-of-type {\n",
       "        vertical-align: middle;\n",
       "    }\n",
       "\n",
       "    .dataframe tbody tr th {\n",
       "        vertical-align: top;\n",
       "    }\n",
       "\n",
       "    .dataframe thead th {\n",
       "        text-align: right;\n",
       "    }\n",
       "</style>\n",
       "<table border=\"1\" class=\"dataframe\">\n",
       "  <thead>\n",
       "    <tr style=\"text-align: right;\">\n",
       "      <th></th>\n",
       "      <th>date</th>\n",
       "      <th>minimum</th>\n",
       "      <th>maximum</th>\n",
       "      <th>range</th>\n",
       "      <th>mean</th>\n",
       "      <th>std</th>\n",
       "    </tr>\n",
       "  </thead>\n",
       "  <tbody>\n",
       "    <tr>\n",
       "      <th>0</th>\n",
       "      <td>2023-11-26</td>\n",
       "      <td>1.027860</td>\n",
       "      <td>1.086159</td>\n",
       "      <td>0.058297</td>\n",
       "      <td>1.055989</td>\n",
       "      <td>0.015768</td>\n",
       "    </tr>\n",
       "    <tr>\n",
       "      <th>1</th>\n",
       "      <td>2023-11-27</td>\n",
       "      <td>1.260929</td>\n",
       "      <td>1.295850</td>\n",
       "      <td>0.034920</td>\n",
       "      <td>1.275380</td>\n",
       "      <td>0.008782</td>\n",
       "    </tr>\n",
       "    <tr>\n",
       "      <th>2</th>\n",
       "      <td>2023-11-28</td>\n",
       "      <td>1.091040</td>\n",
       "      <td>1.110020</td>\n",
       "      <td>0.018984</td>\n",
       "      <td>1.098709</td>\n",
       "      <td>0.005030</td>\n",
       "    </tr>\n",
       "    <tr>\n",
       "      <th>3</th>\n",
       "      <td>2023-11-29</td>\n",
       "      <td>0.929130</td>\n",
       "      <td>1.026909</td>\n",
       "      <td>0.097777</td>\n",
       "      <td>0.976738</td>\n",
       "      <td>0.026070</td>\n",
       "    </tr>\n",
       "    <tr>\n",
       "      <th>4</th>\n",
       "      <td>2023-11-30</td>\n",
       "      <td>0.801846</td>\n",
       "      <td>0.907908</td>\n",
       "      <td>0.106060</td>\n",
       "      <td>0.854376</td>\n",
       "      <td>0.028434</td>\n",
       "    </tr>\n",
       "  </tbody>\n",
       "</table>\n",
       "</div>"
      ],
      "text/plain": [
       "         date   minimum   maximum     range      mean       std\n",
       "0  2023-11-26  1.027860  1.086159  0.058297  1.055989  0.015768\n",
       "1  2023-11-27  1.260929  1.295850  0.034920  1.275380  0.008782\n",
       "2  2023-11-28  1.091040  1.110020  0.018984  1.098709  0.005030\n",
       "3  2023-11-29  0.929130  1.026909  0.097777  0.976738  0.026070\n",
       "4  2023-11-30  0.801846  0.907908  0.106060  0.854376  0.028434"
      ]
     },
     "execution_count": 7,
     "metadata": {},
     "output_type": "execute_result"
    }
   ],
   "source": [
    "df.head()"
   ]
  },
  {
   "cell_type": "code",
   "execution_count": 28,
   "id": "b2a4c769",
   "metadata": {},
   "outputs": [],
   "source": [
    "## to drop unnecessary columns\n",
    "#cols = ['minimum','maximum','range','mean','std']\n",
    "#df.drop(cols, inplace=True, axis = 1)\n",
    "#df.head()"
   ]
  },
  {
   "cell_type": "code",
   "execution_count": 8,
   "id": "0638f790",
   "metadata": {},
   "outputs": [
    {
     "data": {
      "text/plain": [
       "date       0\n",
       "minimum    0\n",
       "maximum    0\n",
       "range      0\n",
       "mean       0\n",
       "std        0\n",
       "dtype: int64"
      ]
     },
     "execution_count": 8,
     "metadata": {},
     "output_type": "execute_result"
    }
   ],
   "source": [
    "# Check for missing values\n",
    "df.isnull().sum()"
   ]
  },
  {
   "cell_type": "code",
   "execution_count": 11,
   "id": "0a51bc90",
   "metadata": {
    "scrolled": true
   },
   "outputs": [
    {
     "data": {
      "text/plain": [
       "date       datetime64[ns]\n",
       "minimum           float64\n",
       "maximum           float64\n",
       "range             float64\n",
       "mean              float64\n",
       "std               float64\n",
       "dtype: object"
      ]
     },
     "execution_count": 11,
     "metadata": {},
     "output_type": "execute_result"
    }
   ],
   "source": [
    "#Handle data types\n",
    "df.dtypes"
   ]
  },
  {
   "cell_type": "code",
   "execution_count": 10,
   "id": "7159a3ab",
   "metadata": {},
   "outputs": [],
   "source": [
    "#Converting date object into dateTime\n",
    "df['date'] = pd.to_datetime(df['date'])"
   ]
  },
  {
   "cell_type": "code",
   "execution_count": 1,
   "id": "eef1a79d",
   "metadata": {},
   "outputs": [
    {
     "name": "stdout",
     "output_type": "stream",
     "text": [
      "Collecting mysqlclient\n",
      "  Obtaining dependency information for mysqlclient from https://files.pythonhosted.org/packages/64/0c/338ff73f627db62f2c321bcda61eddb80a384933aa543e3f59821b3c9756/mysqlclient-2.2.4-cp311-cp311-win_amd64.whl.metadata\n",
      "  Downloading mysqlclient-2.2.4-cp311-cp311-win_amd64.whl.metadata (4.6 kB)\n",
      "Downloading mysqlclient-2.2.4-cp311-cp311-win_amd64.whl (203 kB)\n",
      "   ---------------------------------------- 0.0/203.2 kB ? eta -:--:--\n",
      "   ------------------------------------- - 194.6/203.2 kB 12.3 MB/s eta 0:00:01\n",
      "   ---------------------------------------- 203.2/203.2 kB 6.2 MB/s eta 0:00:00\n",
      "Installing collected packages: mysqlclient\n",
      "Successfully installed mysqlclient-2.2.4\n",
      "Note: you may need to restart the kernel to use updated packages.\n"
     ]
    }
   ],
   "source": [
    "pip install mysqlclient\n"
   ]
  },
  {
   "cell_type": "code",
   "execution_count": 29,
   "id": "fde25981",
   "metadata": {},
   "outputs": [],
   "source": [
    "import csv\n",
    "import MySQLdb\n",
    "\n",
    "\n",
    "with open(\"Evapotranspiracao - et0-0810-olhao2.csv\",'r') as file:\n",
    "    reader = csv.reader(file)\n",
    "\n",
    "    connection = MySQLdb.connect(host=\"localhost\",user=\"meec1\",password=\"00meec\",db='teste_ipma_pt')\n",
    "\n",
    "    cursor = connection.cursor()\n",
    "    \n",
    "    for row in reader:\n",
    "        cursor.execute('''INSERT INTO `evapotranspiracao` (`id`, `date`,`minimum`, `maximum`, `range`, `mean`, `std`) VALUES (DEFAULT, %s, %s, %s, %s, %s, %s)''',row)\n",
    "        \n",
    "        connection.commit()\n",
    "cursor.close()\n",
    "\n",
    "connection.close()"
   ]
  },
  {
   "cell_type": "code",
   "execution_count": null,
   "id": "59a594ef",
   "metadata": {},
   "outputs": [],
   "source": []
  }
 ],
 "metadata": {
  "kernelspec": {
   "display_name": "Python 3 (ipykernel)",
   "language": "python",
   "name": "python3"
  },
  "language_info": {
   "codemirror_mode": {
    "name": "ipython",
    "version": 3
   },
   "file_extension": ".py",
   "mimetype": "text/x-python",
   "name": "python",
   "nbconvert_exporter": "python",
   "pygments_lexer": "ipython3",
   "version": "3.11.5"
  }
 },
 "nbformat": 4,
 "nbformat_minor": 5
}
